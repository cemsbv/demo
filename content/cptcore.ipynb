{
  "metadata": {
    "language_info": {
      "codemirror_mode": {
        "name": "python",
        "version": 3
      },
      "file_extension": ".py",
      "mimetype": "text/x-python",
      "name": "python",
      "nbconvert_exporter": "python",
      "pygments_lexer": "ipython3",
      "version": "3.8"
    },
    "kernelspec": {
      "name": "python",
      "display_name": "Python (Pyodide)",
      "language": "python"
    }
  },
  "nbformat_minor": 4,
  "nbformat": 4,
  "cells": [
    {
      "cell_type": "code",
      "source": "# Imports for JupyterLite\n%pip install -q ipywidgets requests py-cptcore",
      "metadata": {
        "trusted": true
      },
      "execution_count": null,
      "outputs": []
    },
    {
      "cell_type": "code",
      "source": "import ipywidgets as widgets\nfrom IPython.display import display\nimport pyodide_http\n\nfrom pycptcore import SoilProperties\nimport requests\nimport json\n\npyodide_http.patch_all()",
      "metadata": {
        "trusted": true
      },
      "execution_count": null,
      "outputs": []
    },
    {
      "cell_type": "code",
      "source": "file = widgets.FileUpload(\n    accept=\".gef, .GEF\",  # Accepted file extension\n    multiple=False,  # True to accept multiple files upload else False\n    disabled=False,\n)\nauthorization = widgets.Password(\n    value=None,\n    placeholder=\"Enter Personal Access Token\",\n    description=\"Authorization:\",\n    disabled=False,\n)\nclassify = widgets.Dropdown(\n    options=[\"beenJefferies\", \"machineLearning\", \"nen\", \"table\", \"robertson\", \"table\"],\n    value=\"nen\",\n    description=\"Classification methode:\",\n    disabled=False,\n)",
      "metadata": {
        "jupyter": {
          "source_hidden": true
        },
        "tags": [],
        "trusted": true
      },
      "execution_count": null,
      "outputs": []
    },
    {
      "cell_type": "code",
      "source": "display(file)\ndisplay(authorization)",
      "metadata": {
        "trusted": true
      },
      "execution_count": null,
      "outputs": []
    },
    {
      "cell_type": "code",
      "source": "if not len(file.value) > 0:\n    raise ValueError(\"Please provide a file first!\")\n\n# create payload for parse cpt call\npayload = {\n    \"content\": file.value[0].content.tobytes().decode(encoding=\"iso8859-1\"),\n    \"engine\": \"gef\",\n}\n\n# call methode\nparse_response = requests.post(\n    \"https://crux-nuclei.com/api/cptcore/v1/parse/cpt\",\n    json=payload,\n    headers={\n        \"Authorization\": f\"Bearer {authorization.value}\",\n    },\n)\n\nif not parse_response.ok:\n    raise RuntimeError(parse_response.content)\n\n# create soil object\nsoil = SoilProperties.from_api_response(\n    parse_response.json()\n)",
      "metadata": {
        "tags": [],
        "trusted": true
      },
      "execution_count": null,
      "outputs": []
    },
    {
      "cell_type": "code",
      "source": "display(classify)",
      "metadata": {
        "trusted": true
      },
      "execution_count": null,
      "outputs": []
    },
    {
      "cell_type": "code",
      "source": "# create payload for classify call\npayload = {\n    \"aggregateLayersPenalty\": 12,\n    \"data\": {\n        \"coneResistance\": soil.cpt_table.dataframe[\"coneResistance\"].tolist(),\n        \"correctedPenetrationLength\": soil.cpt_table.dataframe[\"penetrationLength\"].tolist(),\n    },\n    \"verticalPositionOffset\": soil.verticalPositionOffset,\n    \"x\": float(soil.location.transform[\"x\"]),\n    \"y\": float(soil.location.transform[\"y\"]),\n}\n\nif \"localFriction\" in soil.cpt_table.dataframe.columns:\n    payload[\"data\"][\"localFriction\"] = soil.cpt_table.dataframe[\"localFriction\"].tolist()\n\n# call methode\nclassify_response = requests.post(\n    f\"https://crux-nuclei.com/api/cptcore/v1/classify/{classify.value}\",\n    json=payload,\n    headers={\n        \"Authorization\": f\"Bearer {authorization.value}\",\n    },\n)\n\nif not classify_response.ok:\n    raise RuntimeError(classify_response.content)\n\n# add classify table to soil object\nsoil.set_layer_table_from_api_response(\n    classify_response.json()\n)\n\n# create plot\nfigure = soil.plot()",
      "metadata": {
        "tags": [],
        "trusted": true
      },
      "execution_count": null,
      "outputs": []
    }
  ]
}