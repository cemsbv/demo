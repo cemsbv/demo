{
  "metadata": {
    "language_info": {
      "codemirror_mode": {
        "name": "python",
        "version": 3
      },
      "file_extension": ".py",
      "mimetype": "text/x-python",
      "name": "python",
      "nbconvert_exporter": "python",
      "pygments_lexer": "ipython3",
      "version": "3.8"
    },
    "kernelspec": {
      "name": "python",
      "display_name": "Python (Pyodide)",
      "language": "python"
    }
  },
  "nbformat_minor": 4,
  "nbformat": 4,
  "cells": [
    {
      "cell_type": "code",
      "source": "# Imports for JupyterLite\n%pip install -q ipywidgets requests pandas",
      "metadata": {
        "trusted": true
      },
      "execution_count": null,
      "outputs": []
    },
    {
      "cell_type": "code",
      "source": "import ipywidgets as widgets\nfrom IPython.display import display\nimport pyodide_http\n\nimport matplotlib.patches as mpatches\nimport matplotlib.pyplot as plt\nimport matplotlib.ticker as plticker\nimport numpy as np\nfrom matplotlib.gridspec import GridSpec\nimport requests\nimport pandas as pd\nimport json\n\npyodide_http.patch_all()\n\nFigureSize = (8, 12)\nTickLoc = plticker.MultipleLocator(base=0.5)",
      "metadata": {
        "trusted": true
      },
      "execution_count": null,
      "outputs": []
    },
    {
      "cell_type": "code",
      "source": "file = widgets.FileUpload(\n    accept=\".gef, .GEF\",  # Accepted file extension\n    multiple=False,  # True to accept multiple files upload else False\n    disabled=False,\n)\nauthorization = widgets.Password(\n    value=None,\n    placeholder='Enter Personal Access Token',\n    description='Authorization:',\n    disabled=False\n)\nclassify = widgets.Dropdown(\n    options=['beenJefferies', 'machineLearning', 'nen', 'table', 'robertson', 'table'],\n    value='nen',\n    description='Classification methode:',\n    disabled=False\n)\n",
      "metadata": {
        "jupyter": {
          "source_hidden": true
        },
        "tags": [],
        "trusted": true
      },
      "execution_count": null,
      "outputs": []
    },
    {
      "cell_type": "code",
      "source": "display(file)\ndisplay(authorization)",
      "metadata": {
        "trusted": true
      },
      "execution_count": null,
      "outputs": []
    },
    {
      "cell_type": "code",
      "source": "if not len(file.value) > 0:\n    raise ValueError(\"Please provide a file first!\")\n\n\npayload = {\n    \"content\": file.value[0].content.tobytes().decode(encoding='iso8859-1'),\n    \"engine\": \"gef\"\n}\n\nparse_response = requests.post(\n    \"https://crux-nuclei.com/api/cptcore/v1/parse/cpt\",\n    json=payload,\n    headers={\n        'Authorization': f'Bearer {authorization.value}',\n    }\n)\n\nif not parse_response.ok:\n    raise RuntimeError(parse_response.content)\n\ndata = parse_response.json()",
      "metadata": {
        "tags": [],
        "jupyter": {
          "source_hidden": true
        },
        "trusted": true
      },
      "execution_count": null,
      "outputs": []
    },
    {
      "cell_type": "code",
      "source": "display(classify)",
      "metadata": {
        "trusted": true
      },
      "execution_count": null,
      "outputs": []
    },
    {
      "cell_type": "code",
      "source": "transform_response = requests.get(f\"https://epsg.io/trans?s_srs=4326&t_srs=28992&x={data['location']['long']}&y={data['location']['lat']}&format=json\")\nlocation = json.loads(transform_response.text)\n\npayload = {\n    \"aggregateLayersPenalty\": 12,\n    \"data\": {\n        \"coneResistance\": data[\"data\"][\"coneResistance\"],\n        \"correctedPenetrationLength\": data[\"data\"][\"penetrationLength\"],\n    },\n    \"verticalPositionOffset\": data[\"verticalPositionOffset\"],\n    \"x\": float(location[\"x\"]),\n    \"y\": float(location[\"y\"]),\n}\n\nif \"localFriction\" in data[\"data\"].keys():\n    payload[\"data\"][\"localFriction\"] = data[\"data\"][\"localFriction\"]\n\nclassify_response = requests.post(\n    f\"https://crux-nuclei.com/api/cptcore/v1/classify/{classify.value}\",\n    json=payload,\n    headers={\n        'Authorization': f'Bearer {authorization.value}',\n    }\n)\n\nif not classify_response.ok:\n    raise RuntimeError(classify_response.content)\n    \ntable = classify_response.json()\npd.DataFrame(table)",
      "metadata": {
        "tags": [],
        "jupyter": {
          "source_hidden": true
        },
        "trusted": true
      },
      "execution_count": null,
      "outputs": []
    },
    {
      "cell_type": "code",
      "source": "fig = plt.figure(figsize=FigureSize, dpi=100, layout=\"tight\")\nax11, ax21 = fig.subplots(1, 2, sharey=True)\n\np1 = None\np11 = None\np12 = None\nax12 = ax11.twiny()\np2 = None\nax13 = ax11.twiny()\np3 = None\np4 = None\n\naxes = (ax11, ax12, ax13)\n\n# set the properties on the coneResistance axes\nax11.xaxis.set_ticks_position(\"top\")\nax11.xaxis.set_label_position(\"top\")\nax11.spines[\"top\"].set_position((\"axes\", 1))\nax11.set_xlim(0, 40)\nax11.set_xlabel(\"$q_c$ [MPa]\")\nax11.xaxis.label.set_color(\"#2d2e87\")\nax11.set_ylabel(\"depth [m w.r.t. vertical position offset]\")\n\n# create grid\nmajor_ticks = np.arange(0, 41, 5)\nminor_ticks = np.arange(0, 41, 2.5)\nax11.set_xticks(major_ticks)\nax11.set_xticks(minor_ticks, minor=True)\nax11.grid(which=\"both\")\nax11.grid(which=\"minor\", alpha=0.2)\nax11.grid(which=\"major\", alpha=0.5)\nax11.yaxis.set_major_locator(TickLoc)\n\n# set the properties on the localFriction axes\nax12.xaxis.set_ticks_position(\"top\")\nax12.xaxis.set_label_position(\"top\")\nax12.spines[\"top\"].set_position((\"axes\", 1.05))\nax12.set_xlabel(\"$f_s$ [MPa]\")\nax12.set_xlim(0, 0.8)\nax12.xaxis.label.set_color(\"#e04913\")\n\n# set the properties on the frictionRatio axes\nax13.xaxis.set_ticks_position(\"top\")\nax13.xaxis.set_label_position(\"top\")\nax13.spines[\"top\"].set_position((\"axes\", 1.1))\nax13.set_xlabel(\"$R_f$ [%]\")\nax13.set_xlim(0, 16)\nax13.invert_xaxis()\nax13.xaxis.label.set_color(\"tab:gray\")\n\n# add data to figure\n# plot coneResistance\nif \"coneResistance\" in data[\"data\"].keys():\n    (p1,) = ax11.plot(\n        data[\"data\"][\"coneResistance\"], \n        data[\"data\"][\"depthOffset\"], \n        color=\"#2d2e87\", \n        label=\"coneResistance\"\n    )\n# plot localFriction\nif \"localFriction\" in data[\"data\"].keys():\n    (p2,) = ax12.plot(\n        data[\"data\"][\"localFriction\"], \n        data[\"data\"][\"depthOffset\"], \n        color=\"#e04913\", \n        label=\"localFriction\"\n    )\n\n# plot measured frictionRatio\nif \"frictionRatio\" in data[\"data\"].keys():\n    (p3,) = ax13.plot(\n        data[\"data\"][\"frictionRatio\"],\n        data[\"data\"][\"depthOffset\"],\n        label=\"frictionRatio measured\",\n        color=\"tab:gray\",\n    )\n\n# plot computed frictionRatio\nif \"frictionRatioComputed\" in data[\"data\"].keys():\n    (p4,) = ax13.plot(\n        data[\"data\"][\"frictionRatioComputed\"],\n        data[\"data\"][\"depthOffset\"],\n        label=\"frictionRatio computed\",\n        ls=\"dashed\",\n        color=\"tab:gray\",\n    )\n# add hlines\nif data[\"groundwaterLevel\"] is not None:\n    value = data[\"verticalPositionOffset\"] - data[\"groundwaterLevel\"]\n    p11 = ax11.axhline(\n        value,\n        label=f\"groundwater level: {value:.2f}\",\n        color=\"tab:blue\",\n        ls=\"dashed\",\n    )\nif data[\"predrilledDepth\"] is not None:\n    value = data[\"verticalPositionOffset\"] - data[\"predrilledDepth\"]\n    p12 = ax11.axhline(\n        value,\n        label=f\"predrilled depth: {value:.2f}\",\n        color=\"tab:brown\",\n        ls=\"dashed\",\n    )\n\n# add legend\nax11.legend(\n    loc=\"upper center\",\n    title=f\"CPT: {data['label']}\",\n    handles=[i for i in [p1, p2, p3, p4, p11, p12] if i is not None],\n)\n\n\n# add classify\nfor top, bottom, color, name in zip(\n    table[\"lowerBoundary\"], \n    table[\"upperBoundary\"], \n    table[\"color\"], \n    table[\"geotechnicalSoilName\"]\n):\n    top = data[\"verticalPositionOffset\"] - top\n    bottom = data[\"verticalPositionOffset\"] - bottom\n    ax21.fill_between(\n        [0, 1],\n        top,  # type: ignore\n        bottom,  # type: ignore\n        color=color,  # type: ignore\n    )\n\n    # add annotate\n    y = (bottom - top) / 2 + top # type: ignore\n    ax21.annotate(\n        text=name,  # type: ignore\n        xy=(0.25, y),\n        fontsize=5,\n    )",
      "metadata": {
        "tags": [],
        "jupyter": {
          "source_hidden": true
        },
        "trusted": true
      },
      "execution_count": null,
      "outputs": []
    }
  ]
}